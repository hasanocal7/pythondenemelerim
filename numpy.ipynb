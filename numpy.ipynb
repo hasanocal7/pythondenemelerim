{
 "cells": [
  {
   "cell_type": "code",
   "execution_count": 106,
   "metadata": {},
   "outputs": [
    {
     "data": {
      "text/plain": [
       "3"
      ]
     },
     "execution_count": 106,
     "metadata": {},
     "output_type": "execute_result"
    }
   ],
   "source": [
    "1+2"
   ]
  },
  {
   "cell_type": "code",
   "execution_count": 107,
   "metadata": {},
   "outputs": [
    {
     "name": "stdout",
     "output_type": "stream",
     "text": [
      "1\n"
     ]
    }
   ],
   "source": [
    "import numpy as np\n",
    "#x=np.array([1,2,3,4])\n",
    "#y=np.array([1,2,3,\"4\"]) #string en genel olduğundan array içerisindeki her şey string ifade olur\n",
    "#z=np.array([\"1\",2,\"3\",4], dtype=\"int32\") #dtype ile array elemanlarının tipi manuel ayarlanır\n",
    "#w=np.zeros(10) #0lardan oluşan array (type belirtilmez ise default olarak float tanımlanır)\n",
    "#m=np.zeros([3,8,8,5]) #8e8lik 0lardan oluşan array\n",
    "#a=np.full([3,5],4)#kendi isteğimizin sayıyla belirlenen aralıkta array oluşturma\n",
    "#b=np.arange(0,10) #ardışık array (,,sayı) ile sayı kadar arttırılmış ardışık array de oluşturulabilir\n",
    "#c=np.arange(13,1,-3) \n",
    "#d=np.linspace(0,1)  #0 ila 1 arasında (default değer 50 olacak şekilde) 50 nokta üretir\n",
    "#e=np.linspace(0,1,15) #son değeri değiştirerek kaç nokta üreteceğini belirleyebiliriz\n",
    "#f=np.random.normal(0,1,(4,5)) #4e5lik 0 ortlamalı 1 standart sapması olan random 20 sayı üretme\n",
    "#g=np.random.randint(0,10) #4e5lik 0 ila 10 arasındaki random 20 sayı üretme\n",
    "#h=np.eye(3,3)# birim matris oluşturma\n",
    "#a=np.array([1,2,3])\n",
    "#b=np.array([2,4,6])\n",
    "#print(a*b)# array matematiksel işlemler yapılabilir\n",
    "#i=np.arange(1,11)\n",
    "#print(i.size) #array boyutu\n",
    "#print(i.ndim) #dimension\n",
    "#print(i.dtype) #array type\n",
    "#print(i.reshape(5,2)) #.reshape ile eleman sayısı tutması şartıyla array ile oynanabilir\n",
    "#print(i.reshape(5,2).ndim) #row column ile oynanmış bir array in dimension ı değişebilir\n",
    "#print(i[np.newaxis,:]) #ilave satır ekleme\n",
    "#print(i[:,np.newaxis]) #ilave sütun ekleme\n",
    "#print(np.concatenate([a,b]))#arrayleri listedeki mantık gibi birleştirme yapar\n",
    "#print(np.concatenate([a,a],axis=1))# axis=1 yapılına altına ekler\n",
    "\n",
    "#print(h)\n",
    "#print(g)\n",
    "#print(f)\n",
    "#print(d)\n",
    "#print(e)\n",
    "#print(c)\n",
    "#print(b)\n",
    "#print(x)\n",
    "#print(y)\n",
    "#print(z)\n",
    "#print(w)\n",
    "#print(m)\n",
    "#print(a)\n",
    "\"\"\"def array(arr):\n",
    "    new_arr=arr[::-1]\n",
    "    return np.array(new_arr,float)\n",
    "arr=numpy.array([1,2,3])\n",
    "print(array(arr)) Hackerrank problemi\"\"\"\n",
    "a=np.shape(input().split(' '))\n",
    "a=np.array([input().split(' '),input().split(' ')],dtype=\"int32\")\n",
    "print(np.prod(np.sum(a,axis=0)))\n"
   ]
  },
  {
   "cell_type": "code",
   "execution_count": 108,
   "metadata": {},
   "outputs": [],
   "source": [
    "import numpy as np\n",
    "size=input().split(' ')\n",
    "arr=np.array([input().split(' ') for _ in range(int(size[0]))],dtype=\"int32\")"
   ]
  },
  {
   "cell_type": "code",
   "execution_count": null,
   "metadata": {},
   "outputs": [
    {
     "name": "stdout",
     "output_type": "stream",
     "text": [
      "3\n"
     ]
    }
   ],
   "source": [
    "import numpy as np\n",
    "size=np.array(input().split(' '))\n",
    "arr=np.array([input().split(' ') for _ in range(int(size[0]))],dtype=\"int32\")\n",
    "print(np.max(np.min(arr,axis=1)))"
   ]
  },
  {
   "cell_type": "code",
   "execution_count": null,
   "metadata": {},
   "outputs": [
    {
     "name": "stdout",
     "output_type": "stream",
     "text": [
      "[[[0 0 0]\n",
      "  [0 0 0]\n",
      "  [0 0 0]]\n",
      "\n",
      " [[0 0 0]\n",
      "  [0 0 0]\n",
      "  [0 0 0]]\n",
      "\n",
      " [[0 0 0]\n",
      "  [0 0 0]\n",
      "  [0 0 0]]]\n",
      "[[[1 1 1]\n",
      "  [1 1 1]\n",
      "  [1 1 1]]\n",
      "\n",
      " [[1 1 1]\n",
      "  [1 1 1]\n",
      "  [1 1 1]]\n",
      "\n",
      " [[1 1 1]\n",
      "  [1 1 1]\n",
      "  [1 1 1]]]\n"
     ]
    }
   ],
   "source": [
    "import numpy as np\n",
    "size = (input().split(' '))\n",
    "size=(int(elm) for elm in size)\n",
    "size=tuple(size)\n",
    "print(np.zeros(size,dtype=\"int32\"))\n",
    "print(np.ones(size, dtype =\"int32\"))"
   ]
  },
  {
   "cell_type": "code",
   "execution_count": null,
   "metadata": {},
   "outputs": [
    {
     "name": "stdout",
     "output_type": "stream",
     "text": [
      "[[ 1.  0.  0.]\n",
      " [ 0.  1.  0.]\n",
      " [ 0.  0.  1.]\n",
      " [ 0.  0.  0.]\n",
      " [ 0.  0.  0.]]\n"
     ]
    }
   ],
   "source": [
    "import numpy as np\n",
    "size=input().split(' ')\n",
    "np.set_printoptions(legacy='1.13')\n",
    "print(np.eye(int(size[0]),int(size[1])))"
   ]
  },
  {
   "cell_type": "code",
   "execution_count": null,
   "metadata": {},
   "outputs": [
    {
     "name": "stdout",
     "output_type": "stream",
     "text": [
      "[[ 6  8 10 12]]\n",
      "[[-4 -4 -4 -4]]\n",
      "[[ 5 12 21 32]]\n",
      "[[0 0 0 0]]\n",
      "[[1 2 3 4]]\n",
      "[[    1    64  2187 65536]]\n"
     ]
    }
   ],
   "source": [
    "import numpy as np\n",
    "np.shape(input().split(' '))\n",
    "A=np.array([input().split(' ')],dtype=\"int32\")\n",
    "B=np.array([input().split(' ')],dtype=\"int32\")\n",
    "print(np.add(A,B))\n",
    "print(np.subtract(A,B))\n",
    "print(np.multiply(A,B))\n",
    "print(np.floor_divide(A,B))  \n",
    "print(np.mod(A,B))\n",
    "print(np.power(A,B))"
   ]
  },
  {
   "cell_type": "code",
   "execution_count": null,
   "metadata": {},
   "outputs": [
    {
     "name": "stdout",
     "output_type": "stream",
     "text": [
      "[[ 1.1  2.2  3.3  4.4  5.5  6.6  7.7  8.8  9.9]]\n"
     ]
    }
   ],
   "source": [
    "import numpy as np\n",
    "arr=input().split(' ')\n",
    "arr=(float(elm) for elm in size)\n",
    "arr=list(arr)\n",
    "new_arr=np.array(arr)\n",
    "print(new_arr)"
   ]
  },
  {
   "cell_type": "code",
   "execution_count": 25,
   "metadata": {},
   "outputs": [
    {
     "name": "stdout",
     "output_type": "stream",
     "text": [
      "3.0\n"
     ]
    }
   ],
   "source": [
    "import numpy as np\n",
    "pol=np.array(input().split(' '),dtype=float)\n",
    "x=input()\n",
    "print (np.polyval(pol, int(x)))"
   ]
  },
  {
   "cell_type": "code",
   "execution_count": null,
   "metadata": {},
   "outputs": [],
   "source": []
  }
 ],
 "metadata": {
  "kernelspec": {
   "display_name": "Python 3",
   "language": "python",
   "name": "python3"
  },
  "language_info": {
   "codemirror_mode": {
    "name": "ipython",
    "version": 3
   },
   "file_extension": ".py",
   "mimetype": "text/x-python",
   "name": "python",
   "nbconvert_exporter": "python",
   "pygments_lexer": "ipython3",
   "version": "3.10.9"
  },
  "orig_nbformat": 4,
  "vscode": {
   "interpreter": {
    "hash": "60c638bf37805191394bd8d435b95d4d7379f980dd73d15ba54bff3804eb4e21"
   }
  }
 },
 "nbformat": 4,
 "nbformat_minor": 2
}
