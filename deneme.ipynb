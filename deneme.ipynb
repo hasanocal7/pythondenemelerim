{
 "cells": [
  {
   "cell_type": "code",
   "execution_count": 2,
   "metadata": {},
   "outputs": [
    {
     "data": {
      "text/plain": [
       "3"
      ]
     },
     "execution_count": 2,
     "metadata": {},
     "output_type": "execute_result"
    }
   ],
   "source": [
    "1+2"
   ]
  },
  {
   "cell_type": "code",
   "execution_count": 14,
   "metadata": {},
   "outputs": [
    {
     "name": "stdout",
     "output_type": "stream",
     "text": [
      "[13 10  7  4]\n"
     ]
    },
    {
     "data": {
      "text/plain": [
       "'def array(arr):\\n    new_arr=arr[::-1]\\n    return np.array(new_arr,float)\\narr=numpy.array([1,2,3])\\nprint(array(arr)) Hackerrank problemi'"
      ]
     },
     "execution_count": 14,
     "metadata": {},
     "output_type": "execute_result"
    }
   ],
   "source": [
    "import numpy as np\n",
    "#x=np.array([1,2,3,4])\n",
    "#y=np.array([1,2,3,\"4\"]) #string en genel olduğundan array içerisindeki her şey string ifade olur\n",
    "#z=np.array([\"1\",2,\"3\",4], dtype=\"int32\") #dtype ile array elemanlarının tipi manuel ayarlanır\n",
    "#w=np.zeros(10) #0lardan oluşan array (type belirtilmez ise default olarak float tanımlanır)\n",
    "#m=np.zeros([3,8,8,5]) #8e8lik 0lardan oluşan array\n",
    "#a=np.full([3,5],4)#kendi isteğimizin sayıyla belirlenen aralıkta array oluşturma\n",
    "#b=np.arange(0,10) #ardışık array (,,sayı) ile sayı kadar arttırılmış ardışık array de oluşturulabilir\n",
    "c=np.arange(13,1,-3)\n",
    "print(c)\n",
    "#print(b)\n",
    "#print(x)\n",
    "#print(y)\n",
    "#print(z)\n",
    "#print(w)\n",
    "#print(m)\n",
    "#print(a)\n",
    "\"\"\"def array(arr):\n",
    "    new_arr=arr[::-1]\n",
    "    return np.array(new_arr,float)\n",
    "arr=numpy.array([1,2,3])\n",
    "print(array(arr)) Hackerrank problemi\"\"\"\n"
   ]
  },
  {
   "cell_type": "code",
   "execution_count": null,
   "metadata": {},
   "outputs": [],
   "source": []
  }
 ],
 "metadata": {
  "kernelspec": {
   "display_name": "Python 3",
   "language": "python",
   "name": "python3"
  },
  "language_info": {
   "codemirror_mode": {
    "name": "ipython",
    "version": 3
   },
   "file_extension": ".py",
   "mimetype": "text/x-python",
   "name": "python",
   "nbconvert_exporter": "python",
   "pygments_lexer": "ipython3",
   "version": "3.10.9"
  },
  "orig_nbformat": 4,
  "vscode": {
   "interpreter": {
    "hash": "60c638bf37805191394bd8d435b95d4d7379f980dd73d15ba54bff3804eb4e21"
   }
  }
 },
 "nbformat": 4,
 "nbformat_minor": 2
}
